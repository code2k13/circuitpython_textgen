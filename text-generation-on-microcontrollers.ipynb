{
 "cells": [
  {
   "cell_type": "markdown",
   "id": "39d3e78f",
   "metadata": {
    "papermill": {
     "duration": 0.006196,
     "end_time": "2022-08-19T07:35:14.132977",
     "exception": false,
     "start_time": "2022-08-19T07:35:14.126781",
     "status": "completed"
    },
    "tags": []
   },
   "source": [
    "# Generating 🦕Dinosaur names on microcontrollers using CircuitPython and Markov Chains\n",
    "\n",
    "This notebook contains code for generating random dinosaur names in [CircuitPython](https://docs.circuitpython.org/en/latest/README.html) using [Markov Chains](https://en.wikipedia.org/wiki/Markov_chain).\n",
    "\n",
    "For deploying code to microcontrollers refere to my Github repo : https://github.com/code2k13/circuitpython_textgen"
   ]
  },
  {
   "cell_type": "markdown",
   "id": "4e9a4d6a",
   "metadata": {
    "papermill": {
     "duration": 0.004438,
     "end_time": "2022-08-19T07:35:14.143034",
     "exception": false,
     "start_time": "2022-08-19T07:35:14.138596",
     "status": "completed"
    },
    "tags": []
   },
   "source": [
    "## Why Markov Chains ?\n",
    "\n",
    "- C++ is hard. Setting up dev enviornment can be challenging for newbies.\n",
    "- CircuitPython has many useful libraries available out of box.\n",
    "- Loading Tflite models is currently not supported by CircuitPython. Checkout this open source project https://github.com/mocleiri/tensorflow-micropython-examples for work in direction of making this possible (doesn't work for all boards as of now).\n",
    "- RNNs are complicated and use more memory. \n",
    "- Markov Chains are simpler and lightweight !"
   ]
  },
  {
   "cell_type": "markdown",
   "id": "20e300f7",
   "metadata": {
    "papermill": {
     "duration": 0.004353,
     "end_time": "2022-08-19T07:35:14.152025",
     "exception": false,
     "start_time": "2022-08-19T07:35:14.147672",
     "status": "completed"
    },
    "tags": []
   },
   "source": [
    "## What does this notebook contain ?\n",
    "\n",
    "This notebook is divided into two parts. **Part 1** contains code that takes a text file with dinosaur names and generates a Markov Chain model and saves it as JSON. You can run this code anywhere (on microcontroller or normal computer).  **Part 2** contains code that can be executed on a microcontroller. It is written for CircuitPython. It reads the model from JSON files and generates some random samples.\n",
    "\n",
    "> Note: This code only depends on **json** and **random** packages. CircuitPython does not contain implementation for random.choices , so I had to write my own implementation called '**custom_random_choices**' which you will find in Part 2"
   ]
  },
  {
   "cell_type": "markdown",
   "id": "1b290238",
   "metadata": {
    "papermill": {
     "duration": 0.004299,
     "end_time": "2022-08-19T07:35:14.161033",
     "exception": false,
     "start_time": "2022-08-19T07:35:14.156734",
     "status": "completed"
    },
    "tags": []
   },
   "source": [
    "## Part 1: Creating the Markov Chain from text File"
   ]
  },
  {
   "cell_type": "markdown",
   "id": "d23a0b41",
   "metadata": {
    "papermill": {
     "duration": 0.004344,
     "end_time": "2022-08-19T07:35:14.170144",
     "exception": false,
     "start_time": "2022-08-19T07:35:14.165800",
     "status": "completed"
    },
    "tags": []
   },
   "source": [
    "Let us download a text file containg dinosaur names (one name per line) from github. We are using the file from this github project: https://github.com/junosuarez/dinosaurs. Feel free to use any other file if you want (say names of elves or cities or animals or anything )"
   ]
  },
  {
   "cell_type": "code",
   "execution_count": 1,
   "id": "0b3250f2",
   "metadata": {
    "execution": {
     "iopub.execute_input": "2022-08-19T07:35:14.181831Z",
     "iopub.status.busy": "2022-08-19T07:35:14.180859Z",
     "iopub.status.idle": "2022-08-19T07:35:15.639613Z",
     "shell.execute_reply": "2022-08-19T07:35:15.638194Z"
    },
    "papermill": {
     "duration": 1.467773,
     "end_time": "2022-08-19T07:35:15.642521",
     "exception": false,
     "start_time": "2022-08-19T07:35:14.174748",
     "status": "completed"
    },
    "tags": []
   },
   "outputs": [
    {
     "name": "stdout",
     "output_type": "stream",
     "text": [
      "--2022-08-19 07:35:15--  https://raw.githubusercontent.com/junosuarez/dinosaurs/master/dinosaurs.csv\r\n",
      "Resolving raw.githubusercontent.com (raw.githubusercontent.com)... 185.199.109.133, 185.199.110.133, 185.199.108.133, ...\r\n",
      "Connecting to raw.githubusercontent.com (raw.githubusercontent.com)|185.199.109.133|:443... connected.\r\n",
      "HTTP request sent, awaiting response... 200 OK\r\n",
      "Length: 19656 (19K) [text/plain]\r\n",
      "Saving to: ‘dinosaurs.csv’\r\n",
      "\r\n",
      "dinosaurs.csv       100%[===================>]  19.20K  --.-KB/s    in 0s      \r\n",
      "\r\n",
      "2022-08-19 07:35:15 (58.3 MB/s) - ‘dinosaurs.csv’ saved [19656/19656]\r\n",
      "\r\n"
     ]
    }
   ],
   "source": [
    "!wget https://raw.githubusercontent.com/junosuarez/dinosaurs/master/dinosaurs.csv"
   ]
  },
  {
   "cell_type": "markdown",
   "id": "376ae3fd",
   "metadata": {
    "papermill": {
     "duration": 0.004827,
     "end_time": "2022-08-19T07:35:15.652495",
     "exception": false,
     "start_time": "2022-08-19T07:35:15.647668",
     "status": "completed"
    },
    "tags": []
   },
   "source": [
    "Let us open the file and read all text in single varialble. Then we get set of unique letters and iterate through them to create a Markov Chain."
   ]
  },
  {
   "cell_type": "code",
   "execution_count": 2,
   "id": "1dd04a96",
   "metadata": {
    "execution": {
     "iopub.execute_input": "2022-08-19T07:35:15.664657Z",
     "iopub.status.busy": "2022-08-19T07:35:15.663777Z",
     "iopub.status.idle": "2022-08-19T07:35:15.669769Z",
     "shell.execute_reply": "2022-08-19T07:35:15.668939Z"
    },
    "papermill": {
     "duration": 0.015229,
     "end_time": "2022-08-19T07:35:15.672630",
     "exception": false,
     "start_time": "2022-08-19T07:35:15.657401",
     "status": "completed"
    },
    "tags": []
   },
   "outputs": [],
   "source": [
    "with open(\"dinosaurs.csv\") as f:\n",
    "    txt = f.read()\n",
    "unique_letters = set(txt)"
   ]
  },
  {
   "cell_type": "code",
   "execution_count": 3,
   "id": "00fb4cbf",
   "metadata": {
    "execution": {
     "iopub.execute_input": "2022-08-19T07:35:15.684975Z",
     "iopub.status.busy": "2022-08-19T07:35:15.684580Z",
     "iopub.status.idle": "2022-08-19T07:35:15.707418Z",
     "shell.execute_reply": "2022-08-19T07:35:15.706286Z"
    },
    "papermill": {
     "duration": 0.032099,
     "end_time": "2022-08-19T07:35:15.710107",
     "exception": false,
     "start_time": "2022-08-19T07:35:15.678008",
     "status": "completed"
    },
    "tags": []
   },
   "outputs": [],
   "source": [
    "import re\n",
    "from collections import Counter\n",
    "chain = {}\n",
    "for l in unique_letters:\n",
    "    next_chars = []\n",
    "    try:\n",
    "        for m in re.finditer(l, txt):\n",
    "             start_idx = m.start()\n",
    "             if start_idx+1 < len(txt):\n",
    "                next_chars.append(txt[start_idx+1])\n",
    "        chain[l] = dict(Counter(next_chars))\n",
    "    except:\n",
    "        continue    "
   ]
  },
  {
   "cell_type": "markdown",
   "id": "6d203cd0",
   "metadata": {
    "papermill": {
     "duration": 0.004778,
     "end_time": "2022-08-19T07:35:15.720134",
     "exception": false,
     "start_time": "2022-08-19T07:35:15.715356",
     "status": "completed"
    },
    "tags": []
   },
   "source": [
    "Given below is chain for charactor 'a'. The chain is just a dictionary where keys are charactors that come after 'a' in our file and how many times. For example 'a' follows 'a' 13 times in below example. Charactor 'c' follows 'a' 103 times and so on !! The Markov Chain object is just a dictionary of dictionaries."
   ]
  },
  {
   "cell_type": "code",
   "execution_count": 4,
   "id": "bd3201e1",
   "metadata": {
    "execution": {
     "iopub.execute_input": "2022-08-19T07:35:15.732498Z",
     "iopub.status.busy": "2022-08-19T07:35:15.731711Z",
     "iopub.status.idle": "2022-08-19T07:35:15.744912Z",
     "shell.execute_reply": "2022-08-19T07:35:15.742851Z"
    },
    "papermill": {
     "duration": 0.02256,
     "end_time": "2022-08-19T07:35:15.747922",
     "exception": false,
     "start_time": "2022-08-19T07:35:15.725362",
     "status": "completed"
    },
    "tags": []
   },
   "outputs": [
    {
     "data": {
      "text/plain": [
       "{'a': 13,\n",
       " 'c': 103,\n",
       " 'u': 744,\n",
       " 'r': 125,\n",
       " 'b': 21,\n",
       " 'n': 342,\n",
       " 'p': 89,\n",
       " 't': 214,\n",
       " 'v': 30,\n",
       " 'd': 35,\n",
       " 'm': 70,\n",
       " 's': 160,\n",
       " 'e': 42,\n",
       " 'f': 5,\n",
       " 'g': 41,\n",
       " '\\n': 143,\n",
       " 'h': 17,\n",
       " 'i': 24,\n",
       " 'k': 20,\n",
       " 'j': 6,\n",
       " 'l': 140,\n",
       " 'x': 11,\n",
       " 'z': 8,\n",
       " 'o': 23,\n",
       " 'q': 4,\n",
       " 'y': 15,\n",
       " 'w': 7,\n",
       " '_': 1}"
      ]
     },
     "execution_count": 4,
     "metadata": {},
     "output_type": "execute_result"
    }
   ],
   "source": [
    "chain['a']"
   ]
  },
  {
   "cell_type": "code",
   "execution_count": 5,
   "id": "a7e83314",
   "metadata": {
    "execution": {
     "iopub.execute_input": "2022-08-19T07:35:15.761874Z",
     "iopub.status.busy": "2022-08-19T07:35:15.760928Z",
     "iopub.status.idle": "2022-08-19T07:35:15.769111Z",
     "shell.execute_reply": "2022-08-19T07:35:15.767618Z"
    },
    "papermill": {
     "duration": 0.018038,
     "end_time": "2022-08-19T07:35:15.771753",
     "exception": false,
     "start_time": "2022-08-19T07:35:15.753715",
     "status": "completed"
    },
    "tags": []
   },
   "outputs": [],
   "source": [
    "import json\n",
    "with open(\"dino_chain.json\", \"w\") as i :\n",
    "   json.dump(chain, i)"
   ]
  },
  {
   "cell_type": "markdown",
   "id": "6fbdda11",
   "metadata": {
    "execution": {
     "iopub.execute_input": "2022-08-18T17:02:58.677940Z",
     "iopub.status.busy": "2022-08-18T17:02:58.677219Z",
     "iopub.status.idle": "2022-08-18T17:02:58.688078Z",
     "shell.execute_reply": "2022-08-18T17:02:58.686887Z",
     "shell.execute_reply.started": "2022-08-18T17:02:58.677905Z"
    },
    "papermill": {
     "duration": 0.005747,
     "end_time": "2022-08-19T07:35:15.783468",
     "exception": false,
     "start_time": "2022-08-19T07:35:15.777721",
     "status": "completed"
    },
    "tags": []
   },
   "source": [
    "## Part 2: CircuitPython code to make inferences\n",
    "\n",
    "The code in following bocks needs to be run on device that supports CircuitPython. It uses the '**custom_random_choices**' function which I talked about earlier (its a pure python replacement for random.choices). "
   ]
  },
  {
   "cell_type": "code",
   "execution_count": 6,
   "id": "d6bde5fa",
   "metadata": {
    "execution": {
     "iopub.execute_input": "2022-08-19T07:35:15.797268Z",
     "iopub.status.busy": "2022-08-19T07:35:15.796400Z",
     "iopub.status.idle": "2022-08-19T07:35:15.805623Z",
     "shell.execute_reply": "2022-08-19T07:35:15.804293Z"
    },
    "papermill": {
     "duration": 0.018991,
     "end_time": "2022-08-19T07:35:15.808312",
     "exception": false,
     "start_time": "2022-08-19T07:35:15.789321",
     "status": "completed"
    },
    "tags": []
   },
   "outputs": [],
   "source": [
    "import json\n",
    "import random\n",
    "\n",
    "def custom_random_choices(arr,weights):\n",
    "    cum_weights = []\n",
    "    weights_sum = 0\n",
    "    for i in range(0,len(weights)):        \n",
    "        weights_sum = weights_sum + weights[i]\n",
    "        cum_weights.append(weights_sum)\n",
    "    assert abs(1-weights_sum) < 0.0001\n",
    "    r_weight = random.uniform(0,1)    \n",
    "    \n",
    "    start_idx = 0  \n",
    "    end_idx  = len(arr)-1\n",
    "    middle_idx  = end_idx//2       \n",
    "\n",
    "    while end_idx-start_idx > 2 :      \n",
    "        if cum_weights[middle_idx] <= r_weight:\n",
    "            start_idx = middle_idx\n",
    "        else:\n",
    "            end_idx = middle_idx            \n",
    "        middle_idx = start_idx + ((end_idx-start_idx)//2 )  \n",
    "        \n",
    "    if cum_weights[middle_idx] < r_weight:\n",
    "        return arr[end_idx]\n",
    "    else:\n",
    "        if cum_weights[start_idx] > r_weight:\n",
    "            return arr[start_idx]\n",
    "        return arr[middle_idx]\n",
    "    return -1\n"
   ]
  },
  {
   "cell_type": "markdown",
   "id": "cea3b4cd",
   "metadata": {
    "papermill": {
     "duration": 0.004957,
     "end_time": "2022-08-19T07:35:15.818665",
     "exception": false,
     "start_time": "2022-08-19T07:35:15.813708",
     "status": "completed"
    },
    "tags": []
   },
   "source": [
    "Let's load the dino_chain.json , this file **MUST be present on micrcontroller device**."
   ]
  },
  {
   "cell_type": "code",
   "execution_count": 7,
   "id": "42a55cc6",
   "metadata": {
    "execution": {
     "iopub.execute_input": "2022-08-19T07:35:15.831763Z",
     "iopub.status.busy": "2022-08-19T07:35:15.831050Z",
     "iopub.status.idle": "2022-08-19T07:35:15.836430Z",
     "shell.execute_reply": "2022-08-19T07:35:15.835299Z"
    },
    "papermill": {
     "duration": 0.015521,
     "end_time": "2022-08-19T07:35:15.839396",
     "exception": false,
     "start_time": "2022-08-19T07:35:15.823875",
     "status": "completed"
    },
    "tags": []
   },
   "outputs": [],
   "source": [
    "with open('dino_chain.json', 'r') as f:\n",
    "    data=f.read()\n",
    "dino_chain =  json.loads(data)"
   ]
  },
  {
   "cell_type": "code",
   "execution_count": 8,
   "id": "63cda2e6",
   "metadata": {
    "execution": {
     "iopub.execute_input": "2022-08-19T07:35:15.852975Z",
     "iopub.status.busy": "2022-08-19T07:35:15.852547Z",
     "iopub.status.idle": "2022-08-19T07:35:15.860411Z",
     "shell.execute_reply": "2022-08-19T07:35:15.859401Z"
    },
    "papermill": {
     "duration": 0.017717,
     "end_time": "2022-08-19T07:35:15.862880",
     "exception": false,
     "start_time": "2022-08-19T07:35:15.845163",
     "status": "completed"
    },
    "tags": []
   },
   "outputs": [],
   "source": [
    "def generate_text(n,chain):\n",
    "    op = []\n",
    "    all_states = list(chain.keys())\n",
    "    initial_state = random.choice(all_states)\n",
    "    op.append(initial_state)\n",
    "    for i in range(0,n):\n",
    "        possible_next_states = chain[initial_state].keys()\n",
    "        possible_next_state_weights = list(chain[initial_state].values())\n",
    "        total = sum(possible_next_state_weights)\n",
    "        possible_next_state_weights = [n*1.000/total for n in possible_next_state_weights]\n",
    "        #Use this line for normal Python\n",
    "        #next_state = random.choices(list(possible_next_states),k = 1,weights = possible_next_state_weights)[0] \n",
    "        #Use this line for CircuitPython\n",
    "        next_state = custom_random_choices(list(possible_next_states) ,possible_next_state_weights)\n",
    "        op.append(next_state)\n",
    "        initial_state = next_state\n",
    "    return ''.join(op)"
   ]
  },
  {
   "cell_type": "markdown",
   "id": "34485ee9",
   "metadata": {
    "papermill": {
     "duration": 0.00525,
     "end_time": "2022-08-19T07:35:15.873303",
     "exception": false,
     "start_time": "2022-08-19T07:35:15.868053",
     "status": "completed"
    },
    "tags": []
   },
   "source": [
    "Let use generate some random dinosaur names. We will filter names which are too short or too long !!"
   ]
  },
  {
   "cell_type": "code",
   "execution_count": 9,
   "id": "5a61f87f",
   "metadata": {
    "execution": {
     "iopub.execute_input": "2022-08-19T07:35:15.887281Z",
     "iopub.status.busy": "2022-08-19T07:35:15.886500Z",
     "iopub.status.idle": "2022-08-19T07:35:15.895626Z",
     "shell.execute_reply": "2022-08-19T07:35:15.894043Z"
    },
    "papermill": {
     "duration": 0.020021,
     "end_time": "2022-08-19T07:35:15.898826",
     "exception": false,
     "start_time": "2022-08-19T07:35:15.878805",
     "status": "completed"
    },
    "tags": []
   },
   "outputs": [
    {
     "name": "stdout",
     "output_type": "stream",
     "text": [
      "olerrasaaterullocaururusaqur\n",
      "ermintimondrroecr\n",
      "latos\n",
      "ururanysataura\n",
      "craus\n",
      "ausanglaus\n"
     ]
    }
   ],
   "source": [
    "a = generate_text(100,dino_chain);\n",
    "names = a.split(\"\\n\")\n",
    "for n in names:\n",
    "    if len(n) > 4 and len(n) < 30:\n",
    "        print(n)"
   ]
  }
 ],
 "metadata": {
  "kernelspec": {
   "display_name": "Python 3",
   "language": "python",
   "name": "python3"
  },
  "language_info": {
   "codemirror_mode": {
    "name": "ipython",
    "version": 3
   },
   "file_extension": ".py",
   "mimetype": "text/x-python",
   "name": "python",
   "nbconvert_exporter": "python",
   "pygments_lexer": "ipython3",
   "version": "3.7.12"
  },
  "papermill": {
   "default_parameters": {},
   "duration": 11.565775,
   "end_time": "2022-08-19T07:35:16.525281",
   "environment_variables": {},
   "exception": null,
   "input_path": "__notebook__.ipynb",
   "output_path": "__notebook__.ipynb",
   "parameters": {},
   "start_time": "2022-08-19T07:35:04.959506",
   "version": "2.3.4"
  }
 },
 "nbformat": 4,
 "nbformat_minor": 5
}
